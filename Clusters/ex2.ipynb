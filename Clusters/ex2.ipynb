{
 "cells": [
  {
   "cell_type": "code",
   "execution_count": 19,
   "metadata": {},
   "outputs": [],
   "source": [
    "# Importando as bibliotecas necessárias\n",
    "import numpy as np\n",
    "import pandas as pd\n",
    "from sklearn.preprocessing import LabelEncoder"
   ]
  },
  {
   "cell_type": "code",
   "execution_count": 23,
   "metadata": {},
   "outputs": [],
   "source": [
    "teor_alcoolico= np.array([3, 4, 5, 6])\n",
    "acidez= np.array(['muito', 'pouco', 'médio', 'baixo'])\n",
    "ph= np.array([4.3, 2.8, 4.2, 3.9])\n"
   ]
  },
  {
   "cell_type": "code",
   "execution_count": 24,
   "metadata": {},
   "outputs": [],
   "source": [
    "# Criando um DataFrame \n",
    "df = pd.DataFrame({\n",
    "    'Teor Alcoólico': teor_alcoolico,\n",
    "    'Acidez': acidez,\n",
    "    'pH': ph\n",
    "})"
   ]
  },
  {
   "cell_type": "code",
   "execution_count": 25,
   "metadata": {},
   "outputs": [
    {
     "name": "stdout",
     "output_type": "stream",
     "text": [
      "DataFrame dos Vinhos:\n",
      "   Teor Alcoólico Acidez   pH\n",
      "0               3  muito  4.3\n",
      "1               4  pouco  2.8\n",
      "2               5  médio  4.2\n",
      "3               6  baixo  3.9\n"
     ]
    }
   ],
   "source": [
    "# Exibindo o DataFrame\n",
    "print(\"DataFrame dos Vinhos:\")\n",
    "print(df)"
   ]
  }
 ],
 "metadata": {
  "kernelspec": {
   "display_name": "Python 3",
   "language": "python",
   "name": "python3"
  },
  "language_info": {
   "codemirror_mode": {
    "name": "ipython",
    "version": 3
   },
   "file_extension": ".py",
   "mimetype": "text/x-python",
   "name": "python",
   "nbconvert_exporter": "python",
   "pygments_lexer": "ipython3",
   "version": "3.12.0"
  }
 },
 "nbformat": 4,
 "nbformat_minor": 2
}
